{
 "cells": [
  {
   "cell_type": "markdown",
   "id": "97c80192",
   "metadata": {},
   "source": [
    "# Data Analyst Job Scraper - Indeed.de\n",
    "### In this project I will extract Data Analyst job postings from indeed.de and save them to a csv file\n"
   ]
  },
  {
   "cell_type": "code",
   "execution_count": 1,
   "id": "b24b6318",
   "metadata": {},
   "outputs": [],
   "source": [
    "import requests\n",
    "from bs4 import BeautifulSoup"
   ]
  },
  {
   "cell_type": "code",
   "execution_count": 2,
   "id": "1e3bbbae",
   "metadata": {},
   "outputs": [],
   "source": [
    "def extract_info(page):\n",
    "    headers = {\"User-Agent\": \"Mozilla/5.0 (Windows NT 10.0; Win64; x64) AppleWebKit/537.36 (KHTML, like Gecko) Chrome/101.0.4951.54 Safari/537.36\"}\n",
    "#     URL = f\"https://de.indeed.com/Jobs?q=data%20analyst&l=berlin&start={page}\"\n",
    "#     URL = f\"https://de.indeed.com/Jobs?q=data%20analyst&l=berlin&fromage=1&lang=en&start={page}&vjk=c6b5edda042ddf61\"\n",
    "    URL = f\"https://de.indeed.com/Jobs?q=data%20analyst&l=berlin&lang=en&start={page*10}&vjk=c6b5edda042ddf61\"\n",
    "    page = requests.get(URL,headers)\n",
    "    soup = BeautifulSoup(page.content, \"html.parser\")\n",
    "    return soup"
   ]
  },
  {
   "cell_type": "code",
   "execution_count": 3,
   "id": "2f23a4df",
   "metadata": {
    "scrolled": false
   },
   "outputs": [],
   "source": [
    "def transform_info(soup):\n",
    "    divs = soup.find_all(\"div\", class_ = \"job_seen_beacon\")\n",
    "    for i,item in enumerate(divs):\n",
    "#         title = item.find(\"h2\").text.strip()\n",
    "        title = item.find(\"a\").text.strip()\n",
    "        company = item.find(\"span\", class_ = \"companyName\").text.strip()\n",
    "        job_url = item.find(\"a\", href=True)\n",
    "        job_url_subdirectory = job_url['href']\n",
    "        job_url_full = \"https://de.indeed.com\" + job_url_subdirectory\n",
    "#         print(f\"{i}. Title: {title}\\nCompany: {company}\\nUrl: {job_url_full}\\n\")\n",
    "\n",
    "        job = {\n",
    "            \"title\": title,\n",
    "            \"company\": company,\n",
    "            \"url\": job_url_full\n",
    "        }\n",
    "        \n",
    "        job_list.append(job)\n",
    "    return"
   ]
  },
  {
   "cell_type": "code",
   "execution_count": 4,
   "id": "7f81d7ed",
   "metadata": {},
   "outputs": [],
   "source": [
    "job_list = []\n",
    "\n",
    "for i in range(0,4):\n",
    "    soup = extract_info(0)\n",
    "    transform_info(soup)        "
   ]
  },
  {
   "cell_type": "code",
   "execution_count": 8,
   "id": "b95214d1",
   "metadata": {},
   "outputs": [],
   "source": [
    "import pandas as pd"
   ]
  },
  {
   "cell_type": "code",
   "execution_count": 9,
   "id": "616d8355",
   "metadata": {},
   "outputs": [],
   "source": [
    "df = pd.DataFrame(job_list)\n",
    "df.to_csv('indeed_jobs.csv')"
   ]
  }
 ],
 "metadata": {
  "kernelspec": {
   "display_name": "Python 3 (ipykernel)",
   "language": "python",
   "name": "python3"
  },
  "language_info": {
   "codemirror_mode": {
    "name": "ipython",
    "version": 3
   },
   "file_extension": ".py",
   "mimetype": "text/x-python",
   "name": "python",
   "nbconvert_exporter": "python",
   "pygments_lexer": "ipython3",
   "version": "3.9.11"
  }
 },
 "nbformat": 4,
 "nbformat_minor": 5
}
